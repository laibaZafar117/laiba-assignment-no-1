{
 "cells": [
  {
   "cell_type": "code",
   "execution_count": 8,
   "id": "71cc7293",
   "metadata": {},
   "outputs": [
    {
     "name": "stdout",
     "output_type": "stream",
     "text": [
      "Twinkle, twinkle, little star,\n",
      "\tHow I wonder what you are!\n",
      "\t\tUp above the world so high,\n",
      "\t\tLike a diamond in the sky.\n",
      "Twinkle, twinkle, little star,\n",
      "\tHow I wonder what you are\n"
     ]
    }
   ],
   "source": [
    "#Program to print the output as shown in the question\n",
    "print(\"Twinkle, twinkle, little star,\")\n",
    "print(\"\\tHow I wonder what you are!\")\n",
    "print(\"\\t\\tUp above the world so high,\")\n",
    "print(\"\\t\\tLike a diamond in the sky.\")\n",
    "print(\"Twinkle, twinkle, little star,\")\n",
    "print(\"\\tHow I wonder what you are\")"
   ]
  },
  {
   "cell_type": "code",
   "execution_count": 10,
   "id": "95aef0e4",
   "metadata": {},
   "outputs": [
    {
     "name": "stdout",
     "output_type": "stream",
     "text": [
      "3.8.8 (default, Apr 13 2021, 15:08:03) [MSC v.1916 64 bit (AMD64)]\n"
     ]
    }
   ],
   "source": [
    "#program to find out the vrsion of python \n",
    "import sys\n",
    "print(sys.version)"
   ]
  },
  {
   "cell_type": "code",
   "execution_count": 11,
   "id": "160a6241",
   "metadata": {},
   "outputs": [
    {
     "name": "stdout",
     "output_type": "stream",
     "text": [
      "Sat Jan  1 14:26:57 2022\n"
     ]
    }
   ],
   "source": [
    "#program to display current date and time\n",
    "import time\n",
    "print(time.asctime(time.localtime()))"
   ]
  },
  {
   "cell_type": "code",
   "execution_count": 4,
   "id": "9ee73eaa",
   "metadata": {},
   "outputs": [
    {
     "name": "stdout",
     "output_type": "stream",
     "text": [
      "Please enter the radius of the circle to calculate radius:50\n",
      "7857.142857142857\n"
     ]
    }
   ],
   "source": [
    "#program to find out the area odf the circle by the given radius\n",
    "pi = float(22/7)\n",
    "radius = float(input(\"Please enter the radius of the circle to calculate radius:\"))\n",
    "area = pi*radius*radius;\n",
    "print(area);"
   ]
  },
  {
   "cell_type": "code",
   "execution_count": 1,
   "id": "fb44d8b7",
   "metadata": {},
   "outputs": [
    {
     "name": "stdout",
     "output_type": "stream",
     "text": [
      "Please enter first name\n",
      "laiba\n",
      "Please enter last name\n",
      "zafar\n",
      "Name in reverse order: zafar laiba\n"
     ]
    }
   ],
   "source": [
    "#program to input full name & print in reverse order\n",
    "F_name = input(\"Please enter first name\\n\")\n",
    "L_name = input(\"Please enter last name\\n\")\n",
    "print(\"Name in reverse order: \" + L_name + \" \" + F_name);\n"
   ]
  },
  {
   "cell_type": "code",
   "execution_count": 3,
   "id": "2e5d8366",
   "metadata": {},
   "outputs": [
    {
     "name": "stdout",
     "output_type": "stream",
     "text": [
      "Please enter first number:\n",
      "50\n",
      "Please enter second number:\n",
      "50\n",
      "100\n"
     ]
    }
   ],
   "source": [
    "#program to input 2 numbers and add them\n",
    "num1 = int(input(\"Please enter first number:\\n\"))\n",
    "num2 = int(input(\"Please enter second number:\\n\"))\n",
    "sum = num1 + num2\n",
    "print(sum)"
   ]
  },
  {
   "cell_type": "code",
   "execution_count": null,
   "id": "e283f265",
   "metadata": {},
   "outputs": [],
   "source": []
  },
  {
   "cell_type": "code",
   "execution_count": null,
   "id": "d31fb32b",
   "metadata": {},
   "outputs": [],
   "source": []
  },
  {
   "cell_type": "code",
   "execution_count": null,
   "id": "bd31c848",
   "metadata": {},
   "outputs": [],
   "source": []
  },
  {
   "cell_type": "code",
   "execution_count": null,
   "id": "0d8c6362",
   "metadata": {},
   "outputs": [],
   "source": []
  },
  {
   "cell_type": "code",
   "execution_count": null,
   "id": "1b8b60f7",
   "metadata": {},
   "outputs": [],
   "source": []
  }
 ],
 "metadata": {
  "kernelspec": {
   "display_name": "Python 3 (ipykernel)",
   "language": "python",
   "name": "python3"
  },
  "language_info": {
   "codemirror_mode": {
    "name": "ipython",
    "version": 3
   },
   "file_extension": ".py",
   "mimetype": "text/x-python",
   "name": "python",
   "nbconvert_exporter": "python",
   "pygments_lexer": "ipython3",
   "version": "3.9.7"
  }
 },
 "nbformat": 4,
 "nbformat_minor": 5
}
